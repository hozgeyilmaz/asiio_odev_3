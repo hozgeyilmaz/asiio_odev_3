{
  "nbformat": 4,
  "nbformat_minor": 0,
  "metadata": {
    "colab": {
      "name": "Untitled4.ipynb",
      "version": "0.3.2",
      "provenance": [],
      "include_colab_link": true
    },
    "kernelspec": {
      "name": "python3",
      "display_name": "Python 3"
    }
  },
  "cells": [
    {
      "cell_type": "markdown",
      "metadata": {
        "id": "view-in-github",
        "colab_type": "text"
      },
      "source": [
        "<a href=\"https://colab.research.google.com/github/hozgeyilmaz/asiio_odev_3/blob/master/asiio_odev_3_kombinasyon_ornegi.ipynb\" target=\"_parent\"><img src=\"https://colab.research.google.com/assets/colab-badge.svg\" alt=\"Open In Colab\"/></a>"
      ]
    },
    {
      "metadata": {
        "id": "_Kp3mKPiXQNp",
        "colab_type": "text"
      },
      "cell_type": "markdown",
      "source": [
        "KOMBİNASYON:\n",
        "Bir nesne grubu içerisinden, sıra gözetmeksizin yapılan seçimlerdir.Diğer bir deyişle nesne grubuna karşılık gelen kümenin alt kümeleri olarak da adlandırılır. Çünkü, alt kümelerde sıra önemli değildir."
      ]
    },
    {
      "metadata": {
        "id": "FQtVma8dYCfU",
        "colab_type": "text"
      },
      "cell_type": "markdown",
      "source": [
        "Kombinasyon Örneği:\n",
        "Kullanıcı tarafından girilen n adet bilyeden yine kullanıcı tarafından girilen x tane bilye kaç farklı sekilde secilir?"
      ]
    },
    {
      "metadata": {
        "id": "D28q84caYRuL",
        "colab_type": "code",
        "colab": {}
      },
      "cell_type": "code",
      "source": [
        "n=int(input(\"bilye sayisini giriniz:\"))\n",
        "r=int(input(\"kac tane secilecek:\"))"
      ],
      "execution_count": 0,
      "outputs": []
    },
    {
      "metadata": {
        "id": "S_XJZilzYYYE",
        "colab_type": "text"
      },
      "cell_type": "markdown",
      "source": [
        "Hesaplama için\n",
        "\n",
        "bilye sayısı = n\n",
        "\n",
        "secilecek bilye sayısı = r olacaktır"
      ]
    },
    {
      "metadata": {
        "id": "nnK2hd46YkZy",
        "colab_type": "code",
        "colab": {}
      },
      "cell_type": "code",
      "source": [
        "def faktoriyel(x):\n",
        "    carpim=1\n",
        "    i=1\n",
        "    while i<=x:\n",
        "        carpim=carpim*i  \n",
        "        i=i+1\n",
        "    return carpim"
      ],
      "execution_count": 0,
      "outputs": []
    },
    {
      "metadata": {
        "id": "L0AspNa9Yn5g",
        "colab_type": "text"
      },
      "cell_type": "markdown",
      "source": [
        "Kombinasyon  hesaplamada yararlanılacak faktöriyel hesaplama adımı fonksiyon olarak tanımlanmıştır. Faktöriyel hesaplaması yapılmak istenenen yerde fonksiyonun çağrılması yeterli olacaktır."
      ]
    },
    {
      "metadata": {
        "id": "vGP5trpMYzvf",
        "colab_type": "code",
        "colab": {}
      },
      "cell_type": "code",
      "source": [
        "sonuc=faktoriyel(n)/(faktoriyel(r)*faktoriyel(n-r)) \n",
        "\n",
        "print(\"->\",n,\"tane bilyeden\",r,\"tanesi\",sonuc,\"farkli sekilde secilir\") "
      ],
      "execution_count": 0,
      "outputs": []
    },
    {
      "metadata": {
        "id": "NdAUCYI0Y8cR",
        "colab_type": "text"
      },
      "cell_type": "markdown",
      "source": [
        "Kombinasyon formulü\n",
        "\n",
        "C(n,r)=n!/r!*(n-r)!  şeklinde hesaplanmaktadır\n",
        "\n",
        "Bu örnekte kullanıcı tarafından girilecek olan bilye sayisi= n Kullanıcı tarafından girilecek olan secilecek bilye sayisi = r olacaktır. Formüle göre hesaplanarak sonuc degeri döndürülmektedir."
      ]
    }
  ]
}